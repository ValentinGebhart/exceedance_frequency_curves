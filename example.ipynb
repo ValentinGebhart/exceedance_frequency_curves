{
 "cells": [
  {
   "cell_type": "code",
   "execution_count": 1,
   "id": "4dce294b",
   "metadata": {},
   "outputs": [],
   "source": [
    "# # get hazard object\n",
    "# import numpy as np\n",
    "# from climada.hazard import Hazard, Centroids\n",
    "# from climada.test import get_test_file\n",
    "\n",
    "# haz_tc_fl = Hazard.from_hdf5(\n",
    "#     get_test_file(\"HAZ_DEMO_FL_15\")\n",
    "# )\n",
    "# haz_tc_fl.check()\n",
    "\n"
   ]
  },
  {
   "cell_type": "code",
   "execution_count": 2,
   "id": "aa1c03e9",
   "metadata": {},
   "outputs": [],
   "source": [
    "import warnings\n",
    "\n",
    "warnings.filterwarnings(\"ignore\")\n",
    "\n",
    "from climada.entity import ImpactFuncSet, ImpfTropCyclone\n",
    "from climada.engine import ImpactCalc\n",
    "from climada.util.api_client import Client\n",
    "from climada.util.constants import CMAP_IMPACT\n",
    "from climada.util.plot import plot_from_gdf\n",
    "import numpy as np\n",
    "\n",
    "client = Client()\n",
    "haz_tc_haiti = client.get_hazard(\n",
    "    \"tropical_cyclone\",\n",
    "    properties={\n",
    "        \"country_name\": \"Haiti\",\n",
    "        \"climate_scenario\": \"historical\",\n",
    "        \"nb_synth_tracks\": \"10\",\n",
    "    },\n",
    ")\n",
    "haz_tc_haiti.check()"
   ]
  },
  {
   "cell_type": "code",
   "execution_count": 3,
   "id": "fa6e746f",
   "metadata": {},
   "outputs": [],
   "source": [
    "# prepare exposure\n",
    "from climada.util.api_client import Client\n",
    "client = Client()\n",
    "\n",
    "\n",
    "exposure = client.get_litpop(country=\"Haiti\")\n",
    "exposure.check()"
   ]
  },
  {
   "cell_type": "code",
   "execution_count": 4,
   "id": "84117a23",
   "metadata": {},
   "outputs": [],
   "source": [
    "# prepare impact function\n",
    "\n",
    "impf_tc = ImpfTropCyclone.from_emanuel_usa()\n",
    "impf_set = ImpactFuncSet([impf_tc])\n",
    "impf_set.check()"
   ]
  },
  {
   "cell_type": "code",
   "execution_count": 5,
   "id": "5caa359d",
   "metadata": {},
   "outputs": [],
   "source": [
    "# compute impact\n",
    "\n",
    "impact = ImpactCalc(exposure, impf_set, haz_tc_haiti).impact(save_mat=True)"
   ]
  },
  {
   "cell_type": "code",
   "execution_count": 6,
   "id": "99355947",
   "metadata": {},
   "outputs": [
    {
     "data": {
      "text/plain": [
       "(array([ 8., 31., 41.]), array([   33,  2893, 40634]))"
      ]
     },
     "execution_count": 6,
     "metadata": {},
     "output_type": "execute_result"
    }
   ],
   "source": [
    "np.unique(1/haz_tc_haiti.frequency/11, return_counts=True)"
   ]
  },
  {
   "cell_type": "code",
   "execution_count": 7,
   "id": "03d334fa",
   "metadata": {},
   "outputs": [],
   "source": [
    "# compute local exceedance instensity\n",
    "test_return_periods = np.geomspace(.01, 341, 100)\n",
    "local_exceedance_intensity, label, title = impact.local_exceedance_impact(\n",
    "    return_periods=test_return_periods#, method=\"extrapolate_constant\"#method=\"extrapolate\" method=\"extrapolate_constant\"\n",
    ")"
   ]
  },
  {
   "cell_type": "code",
   "execution_count": 8,
   "id": "a4ec74be",
   "metadata": {},
   "outputs": [],
   "source": [
    "from return_period_maps import ReturnPeriodMap, ExceedanceCurve\n",
    "rp_map = ReturnPeriodMap.from_CLIMADA_local_exceedance_intensity(local_exceedance_intensity)"
   ]
  },
  {
   "cell_type": "code",
   "execution_count": 9,
   "id": "e8d4e14b",
   "metadata": {},
   "outputs": [
    {
     "data": {
      "text/plain": [
       "<Axes: >"
      ]
     },
     "execution_count": 9,
     "metadata": {},
     "output_type": "execute_result"
    },
    {
     "data": {
      "image/png": "[encoded data removed]",
      "text/plain": [
       "<Figure size 640x480 with 1 Axes>"
      ]
     },
     "metadata": {},
     "output_type": "display_data"
    }
   ],
   "source": [
    "rp_map.geometry.plot()"
   ]
  },
  {
   "cell_type": "code",
   "execution_count": 10,
   "id": "17c8a769",
   "metadata": {},
   "outputs": [
    {
     "data": {
      "text/plain": [
       "0      POINT (-74.45833 18.08333)\n",
       "1      POINT (-74.45833 18.16667)\n",
       "2      POINT (-74.45833 18.25000)\n",
       "3      POINT (-74.45833 18.33333)\n",
       "4      POINT (-74.45833 18.41667)\n",
       "                  ...            \n",
       "811    POINT (-71.70833 19.66667)\n",
       "812    POINT (-71.70833 19.75000)\n",
       "813    POINT (-71.70833 19.83333)\n",
       "814    POINT (-71.70833 19.91667)\n",
       "815    POINT (-71.70833 20.00000)\n",
       "Length: 816, dtype: geometry"
      ]
     },
     "execution_count": 10,
     "metadata": {},
     "output_type": "execute_result"
    }
   ],
   "source": [
    "from coordinates import change_grid_resolution\n",
    "\n",
    "change_grid_resolution(rp_map.geometry, 2)[0]\n"
   ]
  },
  {
   "cell_type": "code",
   "execution_count": 11,
   "id": "74b0939a",
   "metadata": {},
   "outputs": [
    {
     "data": {
      "text/plain": [
       "186437472.0788105"
      ]
     },
     "execution_count": 11,
     "metadata": {},
     "output_type": "execute_result"
    }
   ],
   "source": [
    "rp_map.compute_aai_aggregated()"
   ]
  },
  {
   "cell_type": "code",
   "execution_count": null,
   "id": "a7da2e32",
   "metadata": {},
   "outputs": [
    {
     "data": {
      "text/plain": [
       "array([3558.06383342, 3792.77971862,  990.38313122, ...,  748.91389327,\n",
       "       1364.45050907, 1337.42391777])"
      ]
     },
     "execution_count": 12,
     "metadata": {},
     "output_type": "execute_result"
    },
    {
     "ename": "",
     "evalue": "",
     "output_type": "error",
     "traceback": [
      "\u001b[1;31mThe Kernel crashed while executing code in the current cell or a previous cell. \n",
      "\u001b[1;31mPlease review the code in the cell(s) to identify a possible cause of the failure. \n",
      "\u001b[1;31mClick <a href='https://aka.ms/vscodeJupyterKernelCrash'>here</a> for more info. \n",
      "\u001b[1;31mView Jupyter <a href='command:jupyter.viewOutput'>log</a> for further details."
     ]
    }
   ],
   "source": [
    "rp_map.compute_aai_per_centroid()"
   ]
  },
  {
   "cell_type": "code",
   "execution_count": null,
   "id": "28be6074",
   "metadata": {},
   "outputs": [
    {
     "name": "stdout",
     "output_type": "stream",
     "text": [
      "centroid 3\n",
      "exfreq shape (1, 100)\n",
      "0.0002443494184541928\n",
      "centroid 4\n",
      "exfreq shape (3, 100)\n",
      "0.0002443494184541928\n",
      "final values shape (101,)\n",
      "aggregate\n",
      "aggregate complete\n",
      "0.0 367580.99293127516 50.0\n",
      "combined probs (1203,)\n",
      "combined probs to final array (7352,)\n",
      "7000\n",
      "final values reshaped (353,)\n",
      "final values shape (353,)\n",
      "aggregate\n",
      "aggregate complete\n",
      "0.0 1348213840.4964657 50.0\n"
     ]
    }
   ],
   "source": [
    "rp_map_half = rp_map.coarsen(scale_factor=2)"
   ]
  },
  {
   "cell_type": "code",
   "execution_count": null,
   "id": "20c51919",
   "metadata": {},
   "outputs": [],
   "source": [
    "np.diff(np.unique(all_coords[:,1]))"
   ]
  },
  {
   "cell_type": "code",
   "execution_count": null,
   "id": "a3eae0cd",
   "metadata": {},
   "outputs": [],
   "source": [
    "print(impact.aai_agg/1000000)"
   ]
  },
  {
   "cell_type": "code",
   "execution_count": null,
   "id": "182cb513",
   "metadata": {},
   "outputs": [],
   "source": [
    "rp_map.compute_aai_aggregated()/1000000"
   ]
  },
  {
   "cell_type": "code",
   "execution_count": null,
   "id": "35c2c303",
   "metadata": {},
   "outputs": [],
   "source": [
    "np.sum(impact.frequency)"
   ]
  },
  {
   "cell_type": "code",
   "execution_count": null,
   "id": "11c5d009",
   "metadata": {},
   "outputs": [],
   "source": [
    "max_inds = [0, 1227, 1278, 1222] #[0,1227, 1278, 1277]\n",
    "# max_inds = [1278] \n",
    "c_frac = 1/10000\n",
    "\n",
    "from exceedance_curves import combine_exceedance_curves\n",
    "agg_rp_curve = combine_exceedance_curves(\n",
    "    [rp_map.exceedance_curves[i] for i in max_inds],\n",
    "    value_resolution=10.,\n",
    "    aggregation_method=sum,\n",
    "    coincidence_fraction=c_frac)\n",
    "\n",
    "summation = 0\n",
    "for i in max_inds:\n",
    "    summation += rp_map.exceedance_curves[i].average_annual_impact()\n",
    "print(summation)\n",
    "print(agg_rp_curve.average_annual_impact())"
   ]
  },
  {
   "cell_type": "code",
   "execution_count": null,
   "id": "bdd93964",
   "metadata": {},
   "outputs": [],
   "source": [
    "import matplotlib.pyplot as plt\n",
    "fig, ax = plt.subplots()\n",
    "for i in max_inds:\n",
    "    ax.plot(1/rp_map.exceedance_curves[i].exceedance_frequencies, rp_map.exceedance_curves[i].values)\n",
    "\n",
    "ax.plot(1/agg_rp_curve.exceedance_frequencies, agg_rp_curve.values, label='aggregated')\n",
    "ax.plot(1/rp_map.exceedance_curves[0].exceedance_frequencies, np.sum([rp_map.exceedance_curves[i].values for i in max_inds], axis=0), label='sum')\n",
    "ax.legend()\n",
    "ax.set_xlim(.5, 20);"
   ]
  },
  {
   "cell_type": "code",
   "execution_count": null,
   "id": "1d7b72d2",
   "metadata": {},
   "outputs": [],
   "source": [
    "from utils import frequency_from_exceedance_frequency, prob_from_exceedance_frequency\n",
    "summation = 0\n",
    "for i in max_inds:\n",
    "    summation += rp_map.exceedance_curves[i].average_annual_impact()\n",
    "print(summation)\n",
    "print(agg_rp_curve.average_annual_impact()\n",
    "indices_initial = np.where(\n",
    "    (agg_rp_curve.exceedance_frequencies >= 1/15) &\n",
    "    (agg_rp_curve.exceedance_frequencies <= 1/1)\n",
    "    )\n",
    "ex_freq = agg_rp_curve.exceedance_frequencies[indices_initial]\n",
    "vals = agg_rp_curve.values[indices_initial]\n",
    "\n",
    "print(np.nansum(vals * prob_from_exceedance_frequency(ex_freq, coincidence_fraction=1)[1:]))\n",
    "           \n"
   ]
  },
  {
   "cell_type": "markdown",
   "id": "2d5de770",
   "metadata": {},
   "source": [
    "## Test Carmen RP curves"
   ]
  },
  {
   "cell_type": "code",
   "execution_count": 20,
   "id": "9f1abfa2",
   "metadata": {},
   "outputs": [
    {
     "data": {
      "text/plain": [
       "[<matplotlib.lines.Line2D at 0x167c5c510>]"
      ]
     },
     "execution_count": 20,
     "metadata": {},
     "output_type": "execute_result"
    },
    {
     "data": {
      "image/png": "[encoded data removed]",
      "text/plain": [
       "<Figure size 640x480 with 1 Axes>"
      ]
     },
     "metadata": {},
     "output_type": "display_data"
    }
   ],
   "source": [
    "import numpy as np\n",
    "import matplotlib.pyplot as plt\n",
    "# rps_carmen = np.geomspace(1, 500, 50)\n",
    "# exf_carmen = 1/rps_carmen\n",
    "# values_carmen = 25*np.log(rps_carmen)\n",
    "rps_carmen = np.array([1, 2, 3, 5, 10, 20, 30, 40, 60, 80, 100])\n",
    "exf_carmen = 1/rps_carmen\n",
    "# values_carmen = 25*np.log(rps_carmen)\n",
    "values_carmen_TC = np.array([5, 60, 85, 115, 140, 190, 215, 245, 295, 330, 355])\n",
    "values_carmen_RF = np.array([7, 65, 85, 110, 140, 160, 210, 245, 270, 295, 300])\n",
    "values_carmen_combined = np.array([20, 120, 160, 205, 240, 310, 350, 390, 430, 480, 510])\n",
    "plt.plot(rps_carmen, values_carmen_RF)\n",
    "plt.plot(rps_carmen, values_carmen_TC)\n",
    "plt.plot(rps_carmen, values_carmen_combined)\n",
    "\n"
   ]
  },
  {
   "cell_type": "code",
   "execution_count": 15,
   "id": "f121dd82",
   "metadata": {},
   "outputs": [],
   "source": [
    "from return_period_maps import ReturnPeriodMap, ExceedanceCurve\n",
    "from exceedance_curves import ExceedanceCurve, combine_exceedance_curves\n",
    "\n",
    "exceedance_curves_carmen = [ExceedanceCurve(\n",
    "    values=vals,\n",
    "    exceedance_frequencies=exf_carmen,\n",
    ") for vals in [values_carmen_RF, values_carmen_TC]] # left plot\n",
    "# ) for fac in [25, 70]] # right plot"
   ]
  },
  {
   "cell_type": "code",
   "execution_count": 26,
   "id": "db5e1cbb",
   "metadata": {},
   "outputs": [
    {
     "data": {
      "text/plain": [
       "(-20.0, 570.0)"
      ]
     },
     "execution_count": 26,
     "metadata": {},
     "output_type": "execute_result"
    },
    {
     "data": {
      "image/png": "[encoded data removed]",
      "text/plain": [
       "<Figure size 640x480 with 1 Axes>"
      ]
     },
     "metadata": {},
     "output_type": "display_data"
    }
   ],
   "source": [
    "agg_curve_carmen = combine_exceedance_curves(\n",
    "    exceedance_curves_carmen,\n",
    "    value_resolution=5.,\n",
    "    aggregation_method=sum,\n",
    "    coincidence_fraction=1)\n",
    "\n",
    "fig, ax = plt.subplots()\n",
    "for i in [0,1]:\n",
    "    ax.plot(1/exceedance_curves_carmen[i].exceedance_frequencies, exceedance_curves_carmen[i].values, label=f'hazard {i+1}')\n",
    "\n",
    "\n",
    "ax.plot(1/agg_curve_carmen.exceedance_frequencies, agg_curve_carmen.values, label='aggregated')\n",
    "ax.plot(1/exceedance_curves_carmen[0].exceedance_frequencies, np.sum([exceedance_curves_carmen[i].values for i in [0,1]], axis=0), label='sum')\n",
    "ax.plot(1/exceedance_curves_carmen[0].exceedance_frequencies, values_carmen_combined, label='paper')\n",
    "\n",
    "ax.grid()\n",
    "ax.legend()\n",
    "ax.set_xlim(1, 100)\n",
    "ax.set_ylim(-20, 570)"
   ]
  },
  {
   "cell_type": "code",
   "execution_count": null,
   "id": "cce6549a",
   "metadata": {},
   "outputs": [
    {
     "data": {
      "text/plain": [
       "array([1.        , 0.59948425, 0.35938137, 0.21544347, 0.12915497,\n",
       "       0.07742637, 0.04641589, 0.02782559, 0.01668101, 0.01      ])"
      ]
     },
     "execution_count": 15,
     "metadata": {},
     "output_type": "execute_result"
    }
   ],
   "source": [
    "exceedance_curves_carmen[0].exceedance_frequencies"
   ]
  },
  {
   "cell_type": "code",
   "execution_count": null,
   "id": "3e1e5519",
   "metadata": {},
   "outputs": [],
   "source": [
    "efs = rp_map.exceedance_curves[0].exceedance_frequencies\n",
    "vals = rp_map.exceedance_curves[0].values"
   ]
  },
  {
   "cell_type": "code",
   "execution_count": 3,
   "id": "95d1e42a",
   "metadata": {},
   "outputs": [
    {
     "ename": "NameError",
     "evalue": "name 'prob_from_exceedance_frequency' is not defined",
     "output_type": "error",
     "traceback": [
      "\u001b[31m---------------------------------------------------------------------------\u001b[39m",
      "\u001b[31mNameError\u001b[39m                                 Traceback (most recent call last)",
      "\u001b[36mCell\u001b[39m\u001b[36m \u001b[39m\u001b[32mIn[3]\u001b[39m\u001b[32m, line 8\u001b[39m\n\u001b[32m      6\u001b[39m cfrac = np.linspace(\u001b[32m.01\u001b[39m,\u001b[32m1\u001b[39m,\u001b[32m100\u001b[39m)\n\u001b[32m      7\u001b[39m \u001b[38;5;66;03m# aai = [np.nansum(vals * prob_from_exceedance_frequency(efs, coincidence_fraction=cfra)[1:])/cfra\u001b[39;00m\n\u001b[32m----> \u001b[39m\u001b[32m8\u001b[39m aai = \u001b[43m[\u001b[49m\u001b[43mnp\u001b[49m\u001b[43m.\u001b[49m\u001b[43mnansum\u001b[49m\u001b[43m(\u001b[49m\u001b[43mvalues_carmen\u001b[49m\u001b[43m \u001b[49m\u001b[43m*\u001b[49m\u001b[43m \u001b[49m\u001b[43mprob_from_exceedance_frequency\u001b[49m\u001b[43m(\u001b[49m\u001b[43mexf_carmen\u001b[49m\u001b[43m,\u001b[49m\u001b[43m \u001b[49m\u001b[43mcoincidence_fraction\u001b[49m\u001b[43m=\u001b[49m\u001b[43mcfra\u001b[49m\u001b[43m)\u001b[49m\u001b[43m[\u001b[49m\u001b[32;43m1\u001b[39;49m\u001b[43m:\u001b[49m\u001b[43m]\u001b[49m\u001b[43m)\u001b[49m\u001b[43m/\u001b[49m\u001b[43mcfra\u001b[49m\n\u001b[32m      9\u001b[39m \n\u001b[32m     10\u001b[39m \u001b[43m       \u001b[49m\u001b[38;5;28;43;01mfor\u001b[39;49;00m\u001b[43m \u001b[49m\u001b[43mcfra\u001b[49m\u001b[43m \u001b[49m\u001b[38;5;129;43;01min\u001b[39;49;00m\u001b[43m \u001b[49m\u001b[43mcfrac\u001b[49m\u001b[43m]\u001b[49m\n\u001b[32m     12\u001b[39m plt.plot(cfrac, aai)\n",
      "\u001b[36mCell\u001b[39m\u001b[36m \u001b[39m\u001b[32mIn[3]\u001b[39m\u001b[32m, line 8\u001b[39m, in \u001b[36m<listcomp>\u001b[39m\u001b[34m(.0)\u001b[39m\n\u001b[32m      6\u001b[39m cfrac = np.linspace(\u001b[32m.01\u001b[39m,\u001b[32m1\u001b[39m,\u001b[32m100\u001b[39m)\n\u001b[32m      7\u001b[39m \u001b[38;5;66;03m# aai = [np.nansum(vals * prob_from_exceedance_frequency(efs, coincidence_fraction=cfra)[1:])/cfra\u001b[39;00m\n\u001b[32m----> \u001b[39m\u001b[32m8\u001b[39m aai = [np.nansum(values_carmen * \u001b[43mprob_from_exceedance_frequency\u001b[49m(exf_carmen, coincidence_fraction=cfra)[\u001b[32m1\u001b[39m:])/cfra\n\u001b[32m      9\u001b[39m \n\u001b[32m     10\u001b[39m        \u001b[38;5;28;01mfor\u001b[39;00m cfra \u001b[38;5;129;01min\u001b[39;00m cfrac]\n\u001b[32m     12\u001b[39m plt.plot(cfrac, aai)\n",
      "\u001b[31mNameError\u001b[39m: name 'prob_from_exceedance_frequency' is not defined"
     ]
    }
   ],
   "source": [
    "rps_carmen = np.geomspace(.1, 10000, 10)\n",
    "exf_carmen = 1/rps_carmen\n",
    "# values_carmen = 25*np.log(rps_carmen)+60\n",
    "values_carmen = 25*np.power(rps_carmen, .25)\n",
    "\n",
    "cfrac = np.linspace(.01,1,100)\n",
    "# aai = [np.nansum(vals * prob_from_exceedance_frequency(efs, coincidence_fraction=cfra)[1:])/cfra\n",
    "aai = [np.nansum(values_carmen * prob_from_exceedance_frequency(exf_carmen, coincidence_fraction=cfra)[1:])/cfra\n",
    "\n",
    "       for cfra in cfrac]\n",
    "\n",
    "plt.plot(cfrac, aai)"
   ]
  },
  {
   "cell_type": "code",
   "execution_count": null,
   "id": "d5369684",
   "metadata": {},
   "outputs": [],
   "source": [
    "prob_from_exceedance_frequency(exf_carmen, coincidence_fraction=1)[0:]"
   ]
  },
  {
   "cell_type": "code",
   "execution_count": null,
   "id": "316af106",
   "metadata": {},
   "outputs": [],
   "source": [
    "print(prob_from_exceedance_frequency(exf_carmen, coincidence_fraction=1)[0]/1)\n",
    "print(prob_from_exceedance_frequency(exf_carmen, coincidence_fraction=1/12)[0])"
   ]
  },
  {
   "cell_type": "code",
   "execution_count": null,
   "id": "8bb43466",
   "metadata": {},
   "outputs": [],
   "source": [
    "prob_from_exceedance_frequency(exf_carmen, coincidence_fraction=1/12)[0]"
   ]
  },
  {
   "cell_type": "code",
   "execution_count": null,
   "id": "07e85a3a",
   "metadata": {},
   "outputs": [],
   "source": [
    "values_carmen"
   ]
  },
  {
   "cell_type": "code",
   "execution_count": null,
   "id": "9657fe35",
   "metadata": {},
   "outputs": [],
   "source": [
    "np.exp(-exf_carmen[0]/12)"
   ]
  },
  {
   "cell_type": "code",
   "execution_count": null,
   "id": "4707e92e",
   "metadata": {},
   "outputs": [],
   "source": [
    "ef = np.array([.01, .05, .08, .1, .11])"
   ]
  },
  {
   "cell_type": "code",
   "execution_count": null,
   "id": "4caa8f3c",
   "metadata": {},
   "outputs": [],
   "source": [
    "np.cumsum(prob_from_exceedance_frequency(ef[::-1], coincidence_fraction=1)[::-1])"
   ]
  },
  {
   "cell_type": "code",
   "execution_count": null,
   "id": "f0acc1ed",
   "metadata": {},
   "outputs": [],
   "source": []
  }
 ],
 "metadata": {
  "kernelspec": {
   "display_name": "climada_env600",
   "language": "python",
   "name": "python3"
  },
  "language_info": {
   "codemirror_mode": {
    "name": "ipython",
    "version": 3
   },
   "file_extension": ".py",
   "mimetype": "text/x-python",
   "name": "python",
   "nbconvert_exporter": "python",
   "pygments_lexer": "ipython3",
   "version": "3.11.11"
  }
 },
 "nbformat": 4,
 "nbformat_minor": 5
}
