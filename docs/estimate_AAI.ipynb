{
 "cells": [
  {
   "cell_type": "code",
   "execution_count": 1,
   "id": "aa1c03e9",
   "metadata": {},
   "outputs": [
    {
     "name": "stdout",
     "output_type": "stream",
     "text": [
      "2025-08-20 15:29:11,884 - climada.util.api_client - WARNING - there is no internet connection but the client has stored the results of this very request sometime in the past.\n"
     ]
    }
   ],
   "source": [
    "import warnings\n",
    "\n",
    "warnings.filterwarnings(\"ignore\")\n",
    "from exceedance_curve_tools import utils\n",
    "\n",
    "from climada.entity import ImpactFuncSet, ImpfTropCyclone\n",
    "from climada.engine import ImpactCalc\n",
    "from climada.util.api_client import Client\n",
    "from climada.util.constants import CMAP_IMPACT\n",
    "from climada.util.plot import plot_from_gdf\n",
    "import numpy as np\n",
    "import matplotlib.pyplot as plt\n",
    "\n",
    "client = Client()\n",
    "haz_tc_haiti = client.get_hazard(\n",
    "    \"tropical_cyclone\",\n",
    "    properties={\n",
    "        \"country_name\": \"Haiti\",\n",
    "        \"climate_scenario\": \"historical\",\n",
    "        \"nb_synth_tracks\": \"10\",\n",
    "    },\n",
    ")\n",
    "haz_tc_haiti.check()\n",
    "\n",
    "# prepare exposure\n",
    "from climada.util.api_client import Client\n",
    "client = Client()\n",
    "\n",
    "\n",
    "exposure = client.get_litpop(country=\"Haiti\")\n",
    "exposure.check()\n",
    "exposure.data = exposure.data.loc[0:0]\n",
    "\n",
    "# prepare impact function\n",
    "\n",
    "impf_tc = ImpfTropCyclone.from_emanuel_usa()\n",
    "impf_set = ImpactFuncSet([impf_tc])\n",
    "impf_set.check()"
   ]
  },
  {
   "cell_type": "code",
   "execution_count": 2,
   "id": "5caa359d",
   "metadata": {},
   "outputs": [],
   "source": [
    "# compute impact and exceedance curve\n",
    "\n",
    "impact = ImpactCalc(exposure, impf_set, haz_tc_haiti).impact(save_mat=True)\n",
    "\n",
    "test_return_periods = np.geomspace(.01, 500, 100)\n",
    "\n",
    "# compare stepfunction and extrapolate constant\n",
    "values = [0,0]\n",
    "for i, method in enumerate([\"extrapolate_constant\", \"stepfunction\"]):\n",
    "    local_exceedance_intensity, label, title = impact.local_exceedance_impact(\n",
    "        return_periods=test_return_periods, method=method, #method=\"extrapolate\" method=\"extrapolate_constant\"\n",
    "    )\n",
    "    values[i] = local_exceedance_intensity.iloc[0][1:].values\n",
    "\n"
   ]
  },
  {
   "cell_type": "markdown",
   "id": "db4b5e71",
   "metadata": {},
   "source": [
    "## Estimating expected annual impact from exceedance frequency curves\n",
    "\n",
    "While in principle possible, there are a number of difficulties when estimating the average annual impact from an exceedance impact curve:\n",
    "\n",
    "The exceedance impact curve data might be based on different return periods that the one stemming from the proabibilistic event sets. This leads to sightly different numbers, especially depending on the used interpolation method between data points (e.g., stepfunction rather underestimates, interpolate rather overestimates). These differences can eventually add up to quite a difference in final AAI.\n",
    "\n"
   ]
  },
  {
   "cell_type": "code",
   "execution_count": 3,
   "id": "f113c543",
   "metadata": {},
   "outputs": [
    {
     "name": "stdout",
     "output_type": "stream",
     "text": [
      "probabilistic event set approach:  3515.056864705773\n",
      "over exceedance impact curve with interpoaltion:  3552.4192570235555\n",
      "over exceedance impact curve with stepfunction:  3317.082802953598\n"
     ]
    }
   ],
   "source": [
    "\n",
    "# via impact matrix\n",
    "print(\"probabilistic event set approach: \", impact.eai_exp[0])\n",
    "\n",
    "# via local exceednace impact\n",
    "# test_vals = local_exceedance_intensity.iloc[0][1:].values\n",
    "exf = 1/test_return_periods\n",
    "\n",
    "freqs = utils.frequency_from_exceedance_frequency(exf)\n",
    "\n",
    "print(\"over exceedance impact curve with interpoaltion: \",np.nansum(freqs*values[0]))\n",
    "print(\"over exceedance impact curve with stepfunction: \",np.nansum(freqs*values[1]))\n"
   ]
  },
  {
   "cell_type": "code",
   "execution_count": 4,
   "id": "fda2f725",
   "metadata": {},
   "outputs": [
    {
     "data": {
      "text/plain": [
       "Text(0, 0.5, 'impact')"
      ]
     },
     "execution_count": 4,
     "metadata": {},
     "output_type": "execute_result"
    },
    {
     "data": {
      "image/png": "[encoded data removed]",
      "text/plain": [
       "<Figure size 640x480 with 1 Axes>"
      ]
     },
     "metadata": {},
     "output_type": "display_data"
    }
   ],
   "source": [
    "plt.plot(values[0], label=\"extrapolate_constant\")\n",
    "plt.plot(values[1], label=\"stepfunction\")\n",
    "plt.ylabel(\"impact\")"
   ]
  },
  {
   "cell_type": "markdown",
   "id": "98283435",
   "metadata": {},
   "source": [
    "When computing on probabilities instead of frequencies, a further difficulty arises: If one, e.g., computes the probability of the maximum impact per year being in a certain interval, and then computes the expectation values, one misses year with several impacts ocurring. This can be handled by computing the probabilities on a sufficiently small time window such that the probability of two impacts occuring at the same time is negligible."
   ]
  },
  {
   "cell_type": "code",
   "execution_count": 5,
   "id": "a019ad85",
   "metadata": {},
   "outputs": [
    {
     "name": "stdout",
     "output_type": "stream",
     "text": [
      "frequencies:  3552.4192570235555\n",
      "compute yearly probability:  3503.4896665677397\n",
      "compute daily probability:  3552.283403055264\n"
     ]
    }
   ],
   "source": [
    "print(\"frequencies: \",np.nansum(freqs*values[0]))\n",
    "for cf, label in zip([1, 1/365.], [\"yearly\", \"daily\"]):\n",
    "    probs = utils.prob_from_exceedance_frequency(exf, coincidence_fraction=cf)[1:]\n",
    "    print(f\"compute {label} probability: \", np.nansum(probs*values[0])/cf)\n"
   ]
  },
  {
   "cell_type": "code",
   "execution_count": null,
   "id": "3fc95dc8",
   "metadata": {},
   "outputs": [],
   "source": []
  }
 ],
 "metadata": {
  "kernelspec": {
   "display_name": "exceedance_env",
   "language": "python",
   "name": "python3"
  },
  "language_info": {
   "codemirror_mode": {
    "name": "ipython",
    "version": 3
   },
   "file_extension": ".py",
   "mimetype": "text/x-python",
   "name": "python",
   "nbconvert_exporter": "python",
   "pygments_lexer": "ipython3",
   "version": "3.11.13"
  }
 },
 "nbformat": 4,
 "nbformat_minor": 5
}
