{
 "cells": [
  {
   "cell_type": "code",
   "execution_count": 1,
   "id": "aa1c03e9",
   "metadata": {},
   "outputs": [],
   "source": [
    "import warnings\n",
    "\n",
    "warnings.filterwarnings(\"ignore\")\n",
    "import utils\n",
    "\n",
    "from climada.entity import ImpactFuncSet, ImpfTropCyclone\n",
    "from climada.engine import ImpactCalc\n",
    "from climada.util.api_client import Client\n",
    "from climada.util.constants import CMAP_IMPACT\n",
    "from climada.util.plot import plot_from_gdf\n",
    "import numpy as np\n",
    "import matplotlib.pyplot as plt\n",
    "\n",
    "client = Client()\n",
    "haz_tc_haiti = client.get_hazard(\n",
    "    \"tropical_cyclone\",\n",
    "    properties={\n",
    "        \"country_name\": \"Haiti\",\n",
    "        \"climate_scenario\": \"historical\",\n",
    "        \"nb_synth_tracks\": \"10\",\n",
    "    },\n",
    ")\n",
    "\n",
    "# prepare exposure\n",
    "exposure = client.get_litpop(country=\"Haiti\")\n",
    "\n",
    "# prepare impact function\n",
    "impf_tc = ImpfTropCyclone.from_emanuel_usa()\n",
    "impf_set = ImpactFuncSet([impf_tc])"
   ]
  },
  {
   "cell_type": "code",
   "execution_count": 2,
   "id": "5caa359d",
   "metadata": {},
   "outputs": [],
   "source": [
    "# compute impact\n",
    "\n",
    "impact = ImpactCalc(exposure, impf_set, haz_tc_haiti).impact(save_mat=True)\n",
    "\n",
    "test_return_periods = np.geomspace(.01, 500, 100)\n",
    "\n",
    "# local exceedance impact\n",
    "local_exceedance_impact, label, title = impact.local_exceedance_impact(\n",
    "    return_periods=test_return_periods, method=\"extrapolate_constant\", #method=\"extrapolate\" method=\"extrapolate_constant\"\n",
    ")"
   ]
  },
  {
   "cell_type": "code",
   "execution_count": 3,
   "id": "a4ec74be",
   "metadata": {},
   "outputs": [],
   "source": [
    "from return_period_maps import ReturnPeriodMap, ExceedanceCurve\n",
    "rp_map = ReturnPeriodMap.from_CLIMADA_local_exceedance_intensity(local_exceedance_impact)"
   ]
  },
  {
   "cell_type": "code",
   "execution_count": 4,
   "id": "e8d4e14b",
   "metadata": {},
   "outputs": [
    {
     "data": {
      "text/plain": [
       "<Axes: >"
      ]
     },
     "execution_count": 4,
     "metadata": {},
     "output_type": "execute_result"
    },
    {
     "data": {
      "image/png": "[encoded data removed]",
      "text/plain": [
       "<Figure size 640x480 with 1 Axes>"
      ]
     },
     "metadata": {},
     "output_type": "display_data"
    }
   ],
   "source": [
    "rp_map.geometry.plot()"
   ]
  },
  {
   "cell_type": "code",
   "execution_count": 84,
   "id": "304d0cd6",
   "metadata": {},
   "outputs": [
    {
     "name": "stdout",
     "output_type": "stream",
     "text": [
      "AAI coarsened 186.19364150788448\n",
      "AAI coarsened 195.28391101772823\n",
      "AAI coarsened 201.4644011973284\n",
      "AAI coarsened 189.23778902017452\n",
      "AAI coarsened 194.21403059159664\n",
      "AAI coarsened 193.32168863028068\n",
      "AAI coarsened 194.46539212797484\n",
      "AAI coarsened 184.82879083660058\n",
      "AAI coarsened 198.44643713108903\n",
      "AAI coarsened 188.63992229600277\n",
      "AAI original 191.26191196170652\n"
     ]
    }
   ],
   "source": [
    "cf_test = 1\n",
    "for cfactor in [-.3, -.3 , -.1, 0., 0., 0., 0.5, 0.5, 0.95, 0.95]:\n",
    "    rp_map_half =  rp_map.coarsen(scale_factor=1.5, kwargs_combine_exceedance_curves={\n",
    "        \"coincidence_fraction\": cf_test, \"n_samples\": 10000, \"correlation_factor\": cfactor\n",
    "    })\n",
    "    print(\"AAI coarsened\", rp_map_half.compute_aai_aggregated(coincidence_fraction=cf_test)/1_000_000)\n",
    "\n",
    "print(\"AAI original\", rp_map.compute_aai_aggregated(coincidence_fraction=cf_test)/1_000_000)"
   ]
  },
  {
   "cell_type": "code",
   "execution_count": null,
   "id": "865edc3c",
   "metadata": {},
   "outputs": [],
   "source": [
    "\"\"\"\n",
    "cfraction = 0.001\n",
    "\n",
    "AAI coarsened 188.58142271283447\n",
    "AAI coarsened 168.67296634945293\n",
    "AAI coarsened 238.69089856164635\n",
    "AAI coarsened 191.1809631184571\n",
    "AAI coarsened 224.90404980173767\n",
    "AAI coarsened 157.14631712428942\n",
    "AAI coarsened 203.65854461349062\n",
    "AAI coarsened 151.6436576959342\n",
    "AAI coarsened 155.17051241723615\n",
    "AAI coarsened 165.41125160218897\n",
    "\n",
    "AAI original 192.99767390268812\n",
    "\"\"\"\n",
    "\n",
    "\"\"\"\n",
    "cfraction = 1\n",
    "\n",
    "AAI coarsened 186.19364150788448\n",
    "AAI coarsened 195.28391101772823\n",
    "AAI coarsened 201.4644011973284\n",
    "AAI coarsened 189.23778902017452\n",
    "AAI coarsened 194.21403059159664\n",
    "AAI coarsened 193.32168863028068\n",
    "AAI coarsened 194.46539212797484\n",
    "AAI coarsened 184.82879083660058\n",
    "AAI coarsened 198.44643713108903\n",
    "AAI coarsened 188.63992229600277\n",
    "AAI original 191.26191196170652\n",
    "\"\"\""
   ]
  }
 ],
 "metadata": {
  "kernelspec": {
   "display_name": "climada_env600",
   "language": "python",
   "name": "python3"
  },
  "language_info": {
   "codemirror_mode": {
    "name": "ipython",
    "version": 3
   },
   "file_extension": ".py",
   "mimetype": "text/x-python",
   "name": "python",
   "nbconvert_exporter": "python",
   "pygments_lexer": "ipython3",
   "version": "3.11.11"
  }
 },
 "nbformat": 4,
 "nbformat_minor": 5
}
