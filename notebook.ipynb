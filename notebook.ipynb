{
 "cells": [
  {
   "cell_type": "code",
   "execution_count": 37,
   "id": "7029cde4",
   "metadata": {},
   "outputs": [
    {
     "name": "stdout",
     "output_type": "stream",
     "text": [
      "[[1.  0.4 0.5]\n",
      " [0.7 0.3 0.3]\n",
      " [0.4 0.5 0.7]]\n",
      "[[0.5]\n",
      " [0.5]\n",
      " [0.5]]\n",
      "[[1.  0.5 0.5]\n",
      " [0.5 0.5 0.5]\n",
      " [0.5 0.5 0.5]]\n"
     ]
    }
   ],
   "source": [
    "import numpy as np\n",
    "from utils import round_to_array\n",
    "\n",
    "# Example arrays\n",
    "# a = np.random.random(size=(3,5))\n",
    "a = np.random.random(size=(3,3)).round(1)\n",
    "b = np.array([0., 0.5, 1.0])\n",
    "\n",
    "# Find the index in b of the closest value for each value in a\n",
    "closest_indices = np.abs(a[:, None] - b).argmin(axis=-1)\n",
    "# Replace each entry in a with the closest entry from b\n",
    "a_closest = b[closest_indices]\n",
    "print(a)\n",
    "print(a_closest)\n",
    "print(round_to_array(a,b)) # Output: [1. 3. 3. 5.]"
   ]
  },
  {
   "cell_type": "code",
   "execution_count": 41,
   "id": "1cf9019a",
   "metadata": {},
   "outputs": [],
   "source": [
    "unique_values, indices = np.unique(a, return_inverse=True)\n"
   ]
  },
  {
   "cell_type": "code",
   "execution_count": null,
   "id": "4919259e",
   "metadata": {},
   "outputs": [],
   "source": [
    "indices = indices.reshape(a.shape)"
   ]
  },
  {
   "cell_type": "code",
   "execution_count": 47,
   "id": "8ae23b06",
   "metadata": {},
   "outputs": [
    {
     "data": {
      "text/plain": [
       "array([[4, 1, 2],\n",
       "       [3, 0, 0],\n",
       "       [1, 2, 3]])"
      ]
     },
     "execution_count": 47,
     "metadata": {},
     "output_type": "execute_result"
    }
   ],
   "source": [
    "indices"
   ]
  },
  {
   "cell_type": "code",
   "execution_count": 77,
   "id": "acbc8148",
   "metadata": {},
   "outputs": [
    {
     "data": {
      "text/plain": [
       "array([[1. , 0.4, 0.5],\n",
       "       [0.7, 0.3, 0.3],\n",
       "       [0.4, 0.5, 0.7]])"
      ]
     },
     "execution_count": 77,
     "metadata": {},
     "output_type": "execute_result"
    }
   ],
   "source": [
    "a"
   ]
  },
  {
   "cell_type": "code",
   "execution_count": 79,
   "id": "01def3b1",
   "metadata": {},
   "outputs": [
    {
     "data": {
      "text/plain": [
       "1.0"
      ]
     },
     "execution_count": 79,
     "metadata": {},
     "output_type": "execute_result"
    }
   ],
   "source": [
    "a[np.where(indices == 4)].sum()"
   ]
  },
  {
   "cell_type": "code",
   "execution_count": 80,
   "id": "3788fba2",
   "metadata": {},
   "outputs": [
    {
     "data": {
      "text/plain": [
       "[0.6, 0.8, 1.0, 1.4, 1.0]"
      ]
     },
     "execution_count": 80,
     "metadata": {},
     "output_type": "execute_result"
    }
   ],
   "source": [
    "[a[np.where(indices == index)].sum() for index in range(indices.max()+1)]"
   ]
  },
  {
   "cell_type": "code",
   "execution_count": 73,
   "id": "ec65f0d2",
   "metadata": {},
   "outputs": [
    {
     "data": {
      "text/plain": [
       "(array([0]), array([0]))"
      ]
     },
     "execution_count": 73,
     "metadata": {},
     "output_type": "execute_result"
    }
   ],
   "source": [
    "np.where(indices == 4)"
   ]
  },
  {
   "cell_type": "code",
   "execution_count": 65,
   "id": "75396c5f",
   "metadata": {},
   "outputs": [
    {
     "data": {
      "text/plain": [
       "array([[1. , 0.4, 0.5],\n",
       "       [0.7, 0.3, 0.3],\n",
       "       [0.4, 0.5, 0.7]])"
      ]
     },
     "execution_count": 65,
     "metadata": {},
     "output_type": "execute_result"
    }
   ],
   "source": [
    "a"
   ]
  },
  {
   "cell_type": "code",
   "execution_count": 62,
   "id": "653229a9",
   "metadata": {},
   "outputs": [
    {
     "data": {
      "text/plain": [
       "range(0, 5)"
      ]
     },
     "execution_count": 62,
     "metadata": {},
     "output_type": "execute_result"
    }
   ],
   "source": [
    "range(indices.max()+1)"
   ]
  },
  {
   "cell_type": "code",
   "execution_count": 61,
   "id": "cde12934",
   "metadata": {},
   "outputs": [
    {
     "data": {
      "text/plain": [
       "4"
      ]
     },
     "execution_count": 61,
     "metadata": {},
     "output_type": "execute_result"
    }
   ],
   "source": [
    "indices.max()"
   ]
  },
  {
   "cell_type": "code",
   "execution_count": null,
   "id": "8a6e279f",
   "metadata": {},
   "outputs": [],
   "source": []
  }
 ],
 "metadata": {
  "kernelspec": {
   "display_name": "climada_env600",
   "language": "python",
   "name": "python3"
  },
  "language_info": {
   "codemirror_mode": {
    "name": "ipython",
    "version": 3
   },
   "file_extension": ".py",
   "mimetype": "text/x-python",
   "name": "python",
   "nbconvert_exporter": "python",
   "pygments_lexer": "ipython3",
   "version": "3.11.11"
  }
 },
 "nbformat": 4,
 "nbformat_minor": 5
}
